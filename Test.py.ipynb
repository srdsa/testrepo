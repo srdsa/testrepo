{
 "cells": [
  {
   "cell_type": "markdown",
   "id": "418b2c47",
   "metadata": {},
   "source": [
    "# My Jupyter Notebook on IBM Watson Studio"
   ]
  },
  {
   "cell_type": "markdown",
   "id": "50571849",
   "metadata": {},
   "source": [
    "**Adam SORDES**\n",
    "\n",
    "I'm currently an international model and now after almost 10 years I want to switch to a data scientist career."
   ]
  },
  {
   "cell_type": "markdown",
   "id": "cc28c5fb",
   "metadata": {},
   "source": [
    "*I love maths, I love stats, I love data, I love Python, that is why I am interested in data science !*"
   ]
  },
  {
   "cell_type": "markdown",
   "id": "2f61f63b",
   "metadata": {},
   "source": [
    "### Program to calculate the height of ball thrown up :  Given an upward speed u and a time t, calculate the height reached at that moment"
   ]
  },
  {
   "cell_type": "code",
   "execution_count": 7,
   "id": "7e3982a2",
   "metadata": {},
   "outputs": [
    {
     "name": "stdout",
     "output_type": "stream",
     "text": [
      "The height is 19.455999999999996\n"
     ]
    }
   ],
   "source": [
    "u = 20.0\n",
    "a = -9.8\n",
    "t = 1.6\n",
    "s = u*t + 1/2*a*t**2\n",
    "print(\"The height is\", s)"
   ]
  },
  {
   "cell_type": "markdown",
   "id": "6d6437ba",
   "metadata": {},
   "source": [
    "* __You fell pain__\n",
    "1. Accept that something is going wrong\n",
    "2. Assess the situation\n",
    "\n",
    "* __Be solution oriented__\n",
    "1. Chose up to 3 no half mesure solutions\n",
    "2. Set up a plan where the first step has to start in the next 5mn\n",
    "\n",
    "* __Move forward__\n",
    "1. Give yourself 1 and only 1 major goal per day and kill it first, straight from the morning the rest of the to do is just a bonus\n",
    "2. Repeat thoses steps every day \n",
    "\n",
    "[Nobody can give you anything](https://www.goodreads.com/quotes/285544-nobody-can-give-you-freedom-nobody-can-give-you-equality)\n",
    "\n",
    "\n",
    "* If you don't accept it, you can't assess it\n",
    "- If you don't assess it, you can't plan it\n",
    "+ If you fail to plan, you plan to fail\n",
    "\n",
    "Life | is | hard\n",
    "--- | --- | ---\n",
    "*you* | `can` | **change it**\n",
    "Belive | In | Yourself"
   ]
  },
  {
   "cell_type": "code",
   "execution_count": null,
   "id": "d9fa1cc4",
   "metadata": {},
   "outputs": [],
   "source": []
  }
 ],
 "metadata": {
  "kernelspec": {
   "display_name": "Python 3 (ipykernel)",
   "language": "python",
   "name": "python3"
  },
  "language_info": {
   "codemirror_mode": {
    "name": "ipython",
    "version": 3
   },
   "file_extension": ".py",
   "mimetype": "text/x-python",
   "name": "python",
   "nbconvert_exporter": "python",
   "pygments_lexer": "ipython3",
   "version": "3.9.7"
  }
 },
 "nbformat": 4,
 "nbformat_minor": 5
}
